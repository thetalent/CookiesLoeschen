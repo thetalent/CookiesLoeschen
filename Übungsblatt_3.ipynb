{
  "nbformat": 4,
  "nbformat_minor": 0,
  "metadata": {
    "colab": {
      "name": "Übungsblatt 3.ipynb",
      "provenance": [],
      "collapsed_sections": [],
      "toc_visible": true,
      "include_colab_link": true
    },
    "kernelspec": {
      "display_name": "Python 3",
      "language": "python",
      "name": "python3"
    },
    "language_info": {
      "codemirror_mode": {
        "name": "ipython",
        "version": 3
      },
      "file_extension": ".py",
      "mimetype": "text/x-python",
      "name": "python",
      "nbconvert_exporter": "python",
      "pygments_lexer": "ipython3",
      "version": "3.7.1"
    }
  },
  "cells": [
    {
      "cell_type": "markdown",
      "metadata": {
        "id": "view-in-github",
        "colab_type": "text"
      },
      "source": [
        "<a href=\"https://colab.research.google.com/github/thetalent/CookiesLoeschen/blob/master/%C3%9Cbungsblatt_3.ipynb\" target=\"_parent\"><img src=\"https://colab.research.google.com/assets/colab-badge.svg\" alt=\"Open In Colab\"/></a>"
      ]
    },
    {
      "cell_type": "markdown",
      "metadata": {
        "id": "eRECNoy1mIAR"
      },
      "source": [
        "# Übungsblatt 3\n",
        "*Hinweis: Fügen Sie zu jeder Funktion einen einzeiligen Docstring hinzu (falls noch nicht gegeben). Dokumentieren Sie im Docstring die (gewünschte) Funktion, insb. die Inputs und Outputs.*\n",
        "\n",
        "\n",
        "**Aufgabe 1, 2 und 3 sollten auf jeden Fall bearbeitet werden.**\n",
        "\n",
        "-- Fortgeschrittenes: --\n",
        "\n",
        "Aufgabe 4 dient zum Vertiefen des Verständnisses von Comprehensions.\n",
        "\n"
      ]
    },
    {
      "cell_type": "markdown",
      "metadata": {
        "id": "mRuaxd1AmyKn"
      },
      "source": [
        "## Aufgabe 1\n",
        "Schreiben Sie eine Funktion, die die nächste Ebene eines Pascalschen Dreiecks mit Hilfe einer List Comprehension generiert. Die Funktion erhält eine Liste, die eine Zeile des Pascalschen Dreiecks darstellt und gibt die nächste Zeile aus. Beispiele:\n",
        "```\n",
        "generiere_pascal_reihe([1, 2, 1]) -> [1, 3, 3, 1]\n",
        "generiere_pascal_reihe([1, 4, 6, 4, 1]) -> [1, 5, 10, 10, 5, 1]\n",
        "generiere_pascal_reihe([]) -> [1]\n",
        "```\n",
        "Zur Erinnerung: Jedes Element in einer Zeile des Pascalschen Dreiecks wird durch Addition der beiden Elemente in der vorherigen Zeile direkt über (links und rechts) diesem Element gebildet. Wenn es nur ein Element direkt darüber gibt, fügen wir nur dieses eine hinzu. Zum Beispiel sehen die ersten 5 Zeilen des Pascal'schen Dreiecks so aus:\n",
        "```\n",
        "    1\n",
        "   1 1\n",
        "  1 2 1\n",
        " 1 3 3 1\n",
        "1 4 6 4 1\n",
        "```\n",
        "*Hinweis: Sie könnten dieses Problem der ```zip()```-Funktion lösen.*"
      ]
    },
    {
      "cell_type": "code",
      "metadata": {
        "id": "diI9noc4pug8"
      },
      "source": [
        "# Bearbeitung Aufgabe 1\n",
        "def generiere_pascal_reihe(row):\n",
        "    \"\"\"Generierung der nächsten Zeile des Pascal'schen Dreiecks.\"\"\"\n",
        "    pass\n",
        " \n",
        "print(generiere_pascal_reihe([1, 2, 1])) # -> [1, 3, 3, 1]\n",
        "print(generiere_pascal_reihe([1, 4, 6, 4, 1])) # -> [1, 5, 10, 10, 5, 1]\n",
        "print(generiere_pascal_reihe([])) # -> [1]"
      ],
      "execution_count": null,
      "outputs": []
    },
    {
      "cell_type": "markdown",
      "metadata": {
        "id": "IkHxZfGeAw7z"
      },
      "source": [
        "## Aufgabe 2\n",
        "Nutzen Sie List Comprehensions zur Lösung der folgenden Teilaufgaben."
      ]
    },
    {
      "cell_type": "code",
      "metadata": {
        "id": "PQYlxwqdAw71",
        "colab": {
          "base_uri": "https://localhost:8080/",
          "height": 417
        },
        "outputId": "a99c6ac9-3ad1-4416-af78-3d852849756c"
      },
      "source": [
        "import pandas as pd\n",
        "df = pd.read_csv('Spotify-2000.csv')"
      ],
      "execution_count": 11,
      "outputs": [
        {
          "output_type": "error",
          "ename": "FileNotFoundError",
          "evalue": "ignored",
          "traceback": [
            "\u001b[0;31m---------------------------------------------------------------------------\u001b[0m",
            "\u001b[0;31mFileNotFoundError\u001b[0m                         Traceback (most recent call last)",
            "\u001b[0;32m<ipython-input-11-d04d95727160>\u001b[0m in \u001b[0;36m<module>\u001b[0;34m()\u001b[0m\n\u001b[1;32m      1\u001b[0m \u001b[0;32mimport\u001b[0m \u001b[0mpandas\u001b[0m \u001b[0;32mas\u001b[0m \u001b[0mpd\u001b[0m\u001b[0;34m\u001b[0m\u001b[0;34m\u001b[0m\u001b[0m\n\u001b[0;32m----> 2\u001b[0;31m \u001b[0mdf\u001b[0m \u001b[0;34m=\u001b[0m \u001b[0mpd\u001b[0m\u001b[0;34m.\u001b[0m\u001b[0mread_csv\u001b[0m\u001b[0;34m(\u001b[0m\u001b[0;34m'Spotify-2000.csv'\u001b[0m\u001b[0;34m)\u001b[0m\u001b[0;34m\u001b[0m\u001b[0;34m\u001b[0m\u001b[0m\n\u001b[0m",
            "\u001b[0;32m/usr/local/lib/python3.7/dist-packages/pandas/io/parsers.py\u001b[0m in \u001b[0;36mread_csv\u001b[0;34m(filepath_or_buffer, sep, delimiter, header, names, index_col, usecols, squeeze, prefix, mangle_dupe_cols, dtype, engine, converters, true_values, false_values, skipinitialspace, skiprows, skipfooter, nrows, na_values, keep_default_na, na_filter, verbose, skip_blank_lines, parse_dates, infer_datetime_format, keep_date_col, date_parser, dayfirst, cache_dates, iterator, chunksize, compression, thousands, decimal, lineterminator, quotechar, quoting, doublequote, escapechar, comment, encoding, dialect, error_bad_lines, warn_bad_lines, delim_whitespace, low_memory, memory_map, float_precision)\u001b[0m\n\u001b[1;32m    686\u001b[0m     )\n\u001b[1;32m    687\u001b[0m \u001b[0;34m\u001b[0m\u001b[0m\n\u001b[0;32m--> 688\u001b[0;31m     \u001b[0;32mreturn\u001b[0m \u001b[0m_read\u001b[0m\u001b[0;34m(\u001b[0m\u001b[0mfilepath_or_buffer\u001b[0m\u001b[0;34m,\u001b[0m \u001b[0mkwds\u001b[0m\u001b[0;34m)\u001b[0m\u001b[0;34m\u001b[0m\u001b[0;34m\u001b[0m\u001b[0m\n\u001b[0m\u001b[1;32m    689\u001b[0m \u001b[0;34m\u001b[0m\u001b[0m\n\u001b[1;32m    690\u001b[0m \u001b[0;34m\u001b[0m\u001b[0m\n",
            "\u001b[0;32m/usr/local/lib/python3.7/dist-packages/pandas/io/parsers.py\u001b[0m in \u001b[0;36m_read\u001b[0;34m(filepath_or_buffer, kwds)\u001b[0m\n\u001b[1;32m    452\u001b[0m \u001b[0;34m\u001b[0m\u001b[0m\n\u001b[1;32m    453\u001b[0m     \u001b[0;31m# Create the parser.\u001b[0m\u001b[0;34m\u001b[0m\u001b[0;34m\u001b[0m\u001b[0;34m\u001b[0m\u001b[0m\n\u001b[0;32m--> 454\u001b[0;31m     \u001b[0mparser\u001b[0m \u001b[0;34m=\u001b[0m \u001b[0mTextFileReader\u001b[0m\u001b[0;34m(\u001b[0m\u001b[0mfp_or_buf\u001b[0m\u001b[0;34m,\u001b[0m \u001b[0;34m**\u001b[0m\u001b[0mkwds\u001b[0m\u001b[0;34m)\u001b[0m\u001b[0;34m\u001b[0m\u001b[0;34m\u001b[0m\u001b[0m\n\u001b[0m\u001b[1;32m    455\u001b[0m \u001b[0;34m\u001b[0m\u001b[0m\n\u001b[1;32m    456\u001b[0m     \u001b[0;32mif\u001b[0m \u001b[0mchunksize\u001b[0m \u001b[0;32mor\u001b[0m \u001b[0miterator\u001b[0m\u001b[0;34m:\u001b[0m\u001b[0;34m\u001b[0m\u001b[0;34m\u001b[0m\u001b[0m\n",
            "\u001b[0;32m/usr/local/lib/python3.7/dist-packages/pandas/io/parsers.py\u001b[0m in \u001b[0;36m__init__\u001b[0;34m(self, f, engine, **kwds)\u001b[0m\n\u001b[1;32m    946\u001b[0m             \u001b[0mself\u001b[0m\u001b[0;34m.\u001b[0m\u001b[0moptions\u001b[0m\u001b[0;34m[\u001b[0m\u001b[0;34m\"has_index_names\"\u001b[0m\u001b[0;34m]\u001b[0m \u001b[0;34m=\u001b[0m \u001b[0mkwds\u001b[0m\u001b[0;34m[\u001b[0m\u001b[0;34m\"has_index_names\"\u001b[0m\u001b[0;34m]\u001b[0m\u001b[0;34m\u001b[0m\u001b[0;34m\u001b[0m\u001b[0m\n\u001b[1;32m    947\u001b[0m \u001b[0;34m\u001b[0m\u001b[0m\n\u001b[0;32m--> 948\u001b[0;31m         \u001b[0mself\u001b[0m\u001b[0;34m.\u001b[0m\u001b[0m_make_engine\u001b[0m\u001b[0;34m(\u001b[0m\u001b[0mself\u001b[0m\u001b[0;34m.\u001b[0m\u001b[0mengine\u001b[0m\u001b[0;34m)\u001b[0m\u001b[0;34m\u001b[0m\u001b[0;34m\u001b[0m\u001b[0m\n\u001b[0m\u001b[1;32m    949\u001b[0m \u001b[0;34m\u001b[0m\u001b[0m\n\u001b[1;32m    950\u001b[0m     \u001b[0;32mdef\u001b[0m \u001b[0mclose\u001b[0m\u001b[0;34m(\u001b[0m\u001b[0mself\u001b[0m\u001b[0;34m)\u001b[0m\u001b[0;34m:\u001b[0m\u001b[0;34m\u001b[0m\u001b[0;34m\u001b[0m\u001b[0m\n",
            "\u001b[0;32m/usr/local/lib/python3.7/dist-packages/pandas/io/parsers.py\u001b[0m in \u001b[0;36m_make_engine\u001b[0;34m(self, engine)\u001b[0m\n\u001b[1;32m   1178\u001b[0m     \u001b[0;32mdef\u001b[0m \u001b[0m_make_engine\u001b[0m\u001b[0;34m(\u001b[0m\u001b[0mself\u001b[0m\u001b[0;34m,\u001b[0m \u001b[0mengine\u001b[0m\u001b[0;34m=\u001b[0m\u001b[0;34m\"c\"\u001b[0m\u001b[0;34m)\u001b[0m\u001b[0;34m:\u001b[0m\u001b[0;34m\u001b[0m\u001b[0;34m\u001b[0m\u001b[0m\n\u001b[1;32m   1179\u001b[0m         \u001b[0;32mif\u001b[0m \u001b[0mengine\u001b[0m \u001b[0;34m==\u001b[0m \u001b[0;34m\"c\"\u001b[0m\u001b[0;34m:\u001b[0m\u001b[0;34m\u001b[0m\u001b[0;34m\u001b[0m\u001b[0m\n\u001b[0;32m-> 1180\u001b[0;31m             \u001b[0mself\u001b[0m\u001b[0;34m.\u001b[0m\u001b[0m_engine\u001b[0m \u001b[0;34m=\u001b[0m \u001b[0mCParserWrapper\u001b[0m\u001b[0;34m(\u001b[0m\u001b[0mself\u001b[0m\u001b[0;34m.\u001b[0m\u001b[0mf\u001b[0m\u001b[0;34m,\u001b[0m \u001b[0;34m**\u001b[0m\u001b[0mself\u001b[0m\u001b[0;34m.\u001b[0m\u001b[0moptions\u001b[0m\u001b[0;34m)\u001b[0m\u001b[0;34m\u001b[0m\u001b[0;34m\u001b[0m\u001b[0m\n\u001b[0m\u001b[1;32m   1181\u001b[0m         \u001b[0;32melse\u001b[0m\u001b[0;34m:\u001b[0m\u001b[0;34m\u001b[0m\u001b[0;34m\u001b[0m\u001b[0m\n\u001b[1;32m   1182\u001b[0m             \u001b[0;32mif\u001b[0m \u001b[0mengine\u001b[0m \u001b[0;34m==\u001b[0m \u001b[0;34m\"python\"\u001b[0m\u001b[0;34m:\u001b[0m\u001b[0;34m\u001b[0m\u001b[0;34m\u001b[0m\u001b[0m\n",
            "\u001b[0;32m/usr/local/lib/python3.7/dist-packages/pandas/io/parsers.py\u001b[0m in \u001b[0;36m__init__\u001b[0;34m(self, src, **kwds)\u001b[0m\n\u001b[1;32m   2008\u001b[0m         \u001b[0mkwds\u001b[0m\u001b[0;34m[\u001b[0m\u001b[0;34m\"usecols\"\u001b[0m\u001b[0;34m]\u001b[0m \u001b[0;34m=\u001b[0m \u001b[0mself\u001b[0m\u001b[0;34m.\u001b[0m\u001b[0musecols\u001b[0m\u001b[0;34m\u001b[0m\u001b[0;34m\u001b[0m\u001b[0m\n\u001b[1;32m   2009\u001b[0m \u001b[0;34m\u001b[0m\u001b[0m\n\u001b[0;32m-> 2010\u001b[0;31m         \u001b[0mself\u001b[0m\u001b[0;34m.\u001b[0m\u001b[0m_reader\u001b[0m \u001b[0;34m=\u001b[0m \u001b[0mparsers\u001b[0m\u001b[0;34m.\u001b[0m\u001b[0mTextReader\u001b[0m\u001b[0;34m(\u001b[0m\u001b[0msrc\u001b[0m\u001b[0;34m,\u001b[0m \u001b[0;34m**\u001b[0m\u001b[0mkwds\u001b[0m\u001b[0;34m)\u001b[0m\u001b[0;34m\u001b[0m\u001b[0;34m\u001b[0m\u001b[0m\n\u001b[0m\u001b[1;32m   2011\u001b[0m         \u001b[0mself\u001b[0m\u001b[0;34m.\u001b[0m\u001b[0munnamed_cols\u001b[0m \u001b[0;34m=\u001b[0m \u001b[0mself\u001b[0m\u001b[0;34m.\u001b[0m\u001b[0m_reader\u001b[0m\u001b[0;34m.\u001b[0m\u001b[0munnamed_cols\u001b[0m\u001b[0;34m\u001b[0m\u001b[0;34m\u001b[0m\u001b[0m\n\u001b[1;32m   2012\u001b[0m \u001b[0;34m\u001b[0m\u001b[0m\n",
            "\u001b[0;32mpandas/_libs/parsers.pyx\u001b[0m in \u001b[0;36mpandas._libs.parsers.TextReader.__cinit__\u001b[0;34m()\u001b[0m\n",
            "\u001b[0;32mpandas/_libs/parsers.pyx\u001b[0m in \u001b[0;36mpandas._libs.parsers.TextReader._setup_parser_source\u001b[0;34m()\u001b[0m\n",
            "\u001b[0;31mFileNotFoundError\u001b[0m: [Errno 2] No such file or directory: 'Spotify-2000.csv'"
          ]
        }
      ]
    },
    {
      "cell_type": "code",
      "metadata": {
        "id": "hgrxyeEeIeL-"
      },
      "source": [
        "    !pip install -U -q PyDrive\n",
        "\n",
        "    from pydrive.auth import GoogleAuth\n",
        "\n",
        "    from pydrive.drive import GoogleDrive\n",
        "\n",
        "    from google.colab import auth\n",
        "\n",
        "    from oauth2client.client import GoogleCredentials\n",
        "    "
      ],
      "execution_count": 8,
      "outputs": []
    },
    {
      "cell_type": "code",
      "metadata": {
        "colab": {
          "base_uri": "https://localhost:8080/",
          "height": 453
        },
        "id": "Hyeu5IM0JBX5",
        "outputId": "c55bddbf-d303-49d5-d4ba-3866f3e13628"
      },
      "source": [
        "    auth.authenticate_user()\n",
        "\n",
        "    gauth = GoogleAuth()\n",
        "\n",
        "    gauth.credentials = GoogleCredentials.get_application_default()\n",
        "\n",
        "    drive = GoogleDrive(gauth)\n",
        "    import pandas as pd\n",
        "df = pd.read_csv('Spotify-2000.csv')\n",
        "\n"
      ],
      "execution_count": 12,
      "outputs": [
        {
          "output_type": "error",
          "ename": "FileNotFoundError",
          "evalue": "ignored",
          "traceback": [
            "\u001b[0;31m---------------------------------------------------------------------------\u001b[0m",
            "\u001b[0;31mFileNotFoundError\u001b[0m                         Traceback (most recent call last)",
            "\u001b[0;32m<ipython-input-12-06bed5bb656e>\u001b[0m in \u001b[0;36m<module>\u001b[0;34m()\u001b[0m\n\u001b[1;32m      7\u001b[0m \u001b[0mdrive\u001b[0m \u001b[0;34m=\u001b[0m \u001b[0mGoogleDrive\u001b[0m\u001b[0;34m(\u001b[0m\u001b[0mgauth\u001b[0m\u001b[0;34m)\u001b[0m\u001b[0;34m\u001b[0m\u001b[0;34m\u001b[0m\u001b[0m\n\u001b[1;32m      8\u001b[0m \u001b[0;32mimport\u001b[0m \u001b[0mpandas\u001b[0m \u001b[0;32mas\u001b[0m \u001b[0mpd\u001b[0m\u001b[0;34m\u001b[0m\u001b[0;34m\u001b[0m\u001b[0m\n\u001b[0;32m----> 9\u001b[0;31m \u001b[0mdf\u001b[0m \u001b[0;34m=\u001b[0m \u001b[0mpd\u001b[0m\u001b[0;34m.\u001b[0m\u001b[0mread_csv\u001b[0m\u001b[0;34m(\u001b[0m\u001b[0;34m'Spotify-2000.csv'\u001b[0m\u001b[0;34m)\u001b[0m\u001b[0;34m\u001b[0m\u001b[0;34m\u001b[0m\u001b[0m\n\u001b[0m\u001b[1;32m     10\u001b[0m \u001b[0;34m\u001b[0m\u001b[0m\n",
            "\u001b[0;32m/usr/local/lib/python3.7/dist-packages/pandas/io/parsers.py\u001b[0m in \u001b[0;36mread_csv\u001b[0;34m(filepath_or_buffer, sep, delimiter, header, names, index_col, usecols, squeeze, prefix, mangle_dupe_cols, dtype, engine, converters, true_values, false_values, skipinitialspace, skiprows, skipfooter, nrows, na_values, keep_default_na, na_filter, verbose, skip_blank_lines, parse_dates, infer_datetime_format, keep_date_col, date_parser, dayfirst, cache_dates, iterator, chunksize, compression, thousands, decimal, lineterminator, quotechar, quoting, doublequote, escapechar, comment, encoding, dialect, error_bad_lines, warn_bad_lines, delim_whitespace, low_memory, memory_map, float_precision)\u001b[0m\n\u001b[1;32m    686\u001b[0m     )\n\u001b[1;32m    687\u001b[0m \u001b[0;34m\u001b[0m\u001b[0m\n\u001b[0;32m--> 688\u001b[0;31m     \u001b[0;32mreturn\u001b[0m \u001b[0m_read\u001b[0m\u001b[0;34m(\u001b[0m\u001b[0mfilepath_or_buffer\u001b[0m\u001b[0;34m,\u001b[0m \u001b[0mkwds\u001b[0m\u001b[0;34m)\u001b[0m\u001b[0;34m\u001b[0m\u001b[0;34m\u001b[0m\u001b[0m\n\u001b[0m\u001b[1;32m    689\u001b[0m \u001b[0;34m\u001b[0m\u001b[0m\n\u001b[1;32m    690\u001b[0m \u001b[0;34m\u001b[0m\u001b[0m\n",
            "\u001b[0;32m/usr/local/lib/python3.7/dist-packages/pandas/io/parsers.py\u001b[0m in \u001b[0;36m_read\u001b[0;34m(filepath_or_buffer, kwds)\u001b[0m\n\u001b[1;32m    452\u001b[0m \u001b[0;34m\u001b[0m\u001b[0m\n\u001b[1;32m    453\u001b[0m     \u001b[0;31m# Create the parser.\u001b[0m\u001b[0;34m\u001b[0m\u001b[0;34m\u001b[0m\u001b[0;34m\u001b[0m\u001b[0m\n\u001b[0;32m--> 454\u001b[0;31m     \u001b[0mparser\u001b[0m \u001b[0;34m=\u001b[0m \u001b[0mTextFileReader\u001b[0m\u001b[0;34m(\u001b[0m\u001b[0mfp_or_buf\u001b[0m\u001b[0;34m,\u001b[0m \u001b[0;34m**\u001b[0m\u001b[0mkwds\u001b[0m\u001b[0;34m)\u001b[0m\u001b[0;34m\u001b[0m\u001b[0;34m\u001b[0m\u001b[0m\n\u001b[0m\u001b[1;32m    455\u001b[0m \u001b[0;34m\u001b[0m\u001b[0m\n\u001b[1;32m    456\u001b[0m     \u001b[0;32mif\u001b[0m \u001b[0mchunksize\u001b[0m \u001b[0;32mor\u001b[0m \u001b[0miterator\u001b[0m\u001b[0;34m:\u001b[0m\u001b[0;34m\u001b[0m\u001b[0;34m\u001b[0m\u001b[0m\n",
            "\u001b[0;32m/usr/local/lib/python3.7/dist-packages/pandas/io/parsers.py\u001b[0m in \u001b[0;36m__init__\u001b[0;34m(self, f, engine, **kwds)\u001b[0m\n\u001b[1;32m    946\u001b[0m             \u001b[0mself\u001b[0m\u001b[0;34m.\u001b[0m\u001b[0moptions\u001b[0m\u001b[0;34m[\u001b[0m\u001b[0;34m\"has_index_names\"\u001b[0m\u001b[0;34m]\u001b[0m \u001b[0;34m=\u001b[0m \u001b[0mkwds\u001b[0m\u001b[0;34m[\u001b[0m\u001b[0;34m\"has_index_names\"\u001b[0m\u001b[0;34m]\u001b[0m\u001b[0;34m\u001b[0m\u001b[0;34m\u001b[0m\u001b[0m\n\u001b[1;32m    947\u001b[0m \u001b[0;34m\u001b[0m\u001b[0m\n\u001b[0;32m--> 948\u001b[0;31m         \u001b[0mself\u001b[0m\u001b[0;34m.\u001b[0m\u001b[0m_make_engine\u001b[0m\u001b[0;34m(\u001b[0m\u001b[0mself\u001b[0m\u001b[0;34m.\u001b[0m\u001b[0mengine\u001b[0m\u001b[0;34m)\u001b[0m\u001b[0;34m\u001b[0m\u001b[0;34m\u001b[0m\u001b[0m\n\u001b[0m\u001b[1;32m    949\u001b[0m \u001b[0;34m\u001b[0m\u001b[0m\n\u001b[1;32m    950\u001b[0m     \u001b[0;32mdef\u001b[0m \u001b[0mclose\u001b[0m\u001b[0;34m(\u001b[0m\u001b[0mself\u001b[0m\u001b[0;34m)\u001b[0m\u001b[0;34m:\u001b[0m\u001b[0;34m\u001b[0m\u001b[0;34m\u001b[0m\u001b[0m\n",
            "\u001b[0;32m/usr/local/lib/python3.7/dist-packages/pandas/io/parsers.py\u001b[0m in \u001b[0;36m_make_engine\u001b[0;34m(self, engine)\u001b[0m\n\u001b[1;32m   1178\u001b[0m     \u001b[0;32mdef\u001b[0m \u001b[0m_make_engine\u001b[0m\u001b[0;34m(\u001b[0m\u001b[0mself\u001b[0m\u001b[0;34m,\u001b[0m \u001b[0mengine\u001b[0m\u001b[0;34m=\u001b[0m\u001b[0;34m\"c\"\u001b[0m\u001b[0;34m)\u001b[0m\u001b[0;34m:\u001b[0m\u001b[0;34m\u001b[0m\u001b[0;34m\u001b[0m\u001b[0m\n\u001b[1;32m   1179\u001b[0m         \u001b[0;32mif\u001b[0m \u001b[0mengine\u001b[0m \u001b[0;34m==\u001b[0m \u001b[0;34m\"c\"\u001b[0m\u001b[0;34m:\u001b[0m\u001b[0;34m\u001b[0m\u001b[0;34m\u001b[0m\u001b[0m\n\u001b[0;32m-> 1180\u001b[0;31m             \u001b[0mself\u001b[0m\u001b[0;34m.\u001b[0m\u001b[0m_engine\u001b[0m \u001b[0;34m=\u001b[0m \u001b[0mCParserWrapper\u001b[0m\u001b[0;34m(\u001b[0m\u001b[0mself\u001b[0m\u001b[0;34m.\u001b[0m\u001b[0mf\u001b[0m\u001b[0;34m,\u001b[0m \u001b[0;34m**\u001b[0m\u001b[0mself\u001b[0m\u001b[0;34m.\u001b[0m\u001b[0moptions\u001b[0m\u001b[0;34m)\u001b[0m\u001b[0;34m\u001b[0m\u001b[0;34m\u001b[0m\u001b[0m\n\u001b[0m\u001b[1;32m   1181\u001b[0m         \u001b[0;32melse\u001b[0m\u001b[0;34m:\u001b[0m\u001b[0;34m\u001b[0m\u001b[0;34m\u001b[0m\u001b[0m\n\u001b[1;32m   1182\u001b[0m             \u001b[0;32mif\u001b[0m \u001b[0mengine\u001b[0m \u001b[0;34m==\u001b[0m \u001b[0;34m\"python\"\u001b[0m\u001b[0;34m:\u001b[0m\u001b[0;34m\u001b[0m\u001b[0;34m\u001b[0m\u001b[0m\n",
            "\u001b[0;32m/usr/local/lib/python3.7/dist-packages/pandas/io/parsers.py\u001b[0m in \u001b[0;36m__init__\u001b[0;34m(self, src, **kwds)\u001b[0m\n\u001b[1;32m   2008\u001b[0m         \u001b[0mkwds\u001b[0m\u001b[0;34m[\u001b[0m\u001b[0;34m\"usecols\"\u001b[0m\u001b[0;34m]\u001b[0m \u001b[0;34m=\u001b[0m \u001b[0mself\u001b[0m\u001b[0;34m.\u001b[0m\u001b[0musecols\u001b[0m\u001b[0;34m\u001b[0m\u001b[0;34m\u001b[0m\u001b[0m\n\u001b[1;32m   2009\u001b[0m \u001b[0;34m\u001b[0m\u001b[0m\n\u001b[0;32m-> 2010\u001b[0;31m         \u001b[0mself\u001b[0m\u001b[0;34m.\u001b[0m\u001b[0m_reader\u001b[0m \u001b[0;34m=\u001b[0m \u001b[0mparsers\u001b[0m\u001b[0;34m.\u001b[0m\u001b[0mTextReader\u001b[0m\u001b[0;34m(\u001b[0m\u001b[0msrc\u001b[0m\u001b[0;34m,\u001b[0m \u001b[0;34m**\u001b[0m\u001b[0mkwds\u001b[0m\u001b[0;34m)\u001b[0m\u001b[0;34m\u001b[0m\u001b[0;34m\u001b[0m\u001b[0m\n\u001b[0m\u001b[1;32m   2011\u001b[0m         \u001b[0mself\u001b[0m\u001b[0;34m.\u001b[0m\u001b[0munnamed_cols\u001b[0m \u001b[0;34m=\u001b[0m \u001b[0mself\u001b[0m\u001b[0;34m.\u001b[0m\u001b[0m_reader\u001b[0m\u001b[0;34m.\u001b[0m\u001b[0munnamed_cols\u001b[0m\u001b[0;34m\u001b[0m\u001b[0;34m\u001b[0m\u001b[0m\n\u001b[1;32m   2012\u001b[0m \u001b[0;34m\u001b[0m\u001b[0m\n",
            "\u001b[0;32mpandas/_libs/parsers.pyx\u001b[0m in \u001b[0;36mpandas._libs.parsers.TextReader.__cinit__\u001b[0;34m()\u001b[0m\n",
            "\u001b[0;32mpandas/_libs/parsers.pyx\u001b[0m in \u001b[0;36mpandas._libs.parsers.TextReader._setup_parser_source\u001b[0;34m()\u001b[0m\n",
            "\u001b[0;31mFileNotFoundError\u001b[0m: [Errno 2] No such file or directory: 'Spotify-2000.csv'"
          ]
        }
      ]
    },
    {
      "cell_type": "markdown",
      "metadata": {
        "id": "dEY__ua8Aw72"
      },
      "source": [
        "a) Generieren Sie eine Liste der Interpreten, die kurze Namen (<5 Zeichen) haben. Um mögliche Duplikate zu entfernen, nutzen Sie ```set()```."
      ]
    },
    {
      "cell_type": "code",
      "metadata": {
        "id": "y25xAQvTAw72",
        "outputId": "942b9a4d-47c0-4b77-999a-c7f34d60235e"
      },
      "source": [
        "Liste1 = \n",
        "Liste1"
      ],
      "execution_count": null,
      "outputs": [
        {
          "output_type": "execute_result",
          "data": {
            "text/plain": [
              "{'10cc',\n",
              " '2Pac',\n",
              " '3JS',\n",
              " 'ABBA',\n",
              " 'Abel',\n",
              " 'Air',\n",
              " 'BAP',\n",
              " 'BLØF',\n",
              " 'Blue',\n",
              " 'Blur',\n",
              " 'Bush',\n",
              " 'CHIC',\n",
              " 'Cher',\n",
              " 'Dido',\n",
              " 'Eels',\n",
              " 'Enya',\n",
              " 'Fink',\n",
              " 'Fish',\n",
              " 'Hero',\n",
              " 'INXS',\n",
              " 'IOS',\n",
              " 'KISS',\n",
              " 'Kane',\n",
              " 'Korn',\n",
              " 'LP',\n",
              " 'Live',\n",
              " 'MGMT',\n",
              " 'Moby',\n",
              " 'Mud',\n",
              " 'Muse',\n",
              " 'Nena',\n",
              " 'Nits',\n",
              " 'P!nk',\n",
              " \"Q'65\",\n",
              " 'Rush',\n",
              " 'Sade',\n",
              " 'Seal',\n",
              " 'Sia',\n",
              " 'Skik',\n",
              " 'TOTO',\n",
              " 'U2',\n",
              " 'UB40',\n",
              " 'Yes',\n",
              " 'a-ha'}"
            ]
          },
          "metadata": {
            "tags": []
          },
          "execution_count": 11
        }
      ]
    },
    {
      "cell_type": "markdown",
      "metadata": {
        "id": "JOqfo23OAw75"
      },
      "source": [
        "b) Generieren Sie eine Liste, die aus den (alphanumerisch) kleinsten Werten der Spalten/Features des Datensatzes besteht."
      ]
    },
    {
      "cell_type": "code",
      "metadata": {
        "id": "wr27I5-YAw76",
        "outputId": "a1af80cf-9ed8-48d1-d366-e1c725719c85"
      },
      "source": [
        "Liste2 = \n",
        "Liste2"
      ],
      "execution_count": null,
      "outputs": [
        {
          "output_type": "execute_result",
          "data": {
            "text/plain": [
              "[1,\n",
              " \"(Don't Fear) The Reaper\",\n",
              " '10cc',\n",
              " 'acid jazz',\n",
              " 1956,\n",
              " 37,\n",
              " 3,\n",
              " 10,\n",
              " -27,\n",
              " 2,\n",
              " 3,\n",
              " '1,121',\n",
              " 0,\n",
              " 2,\n",
              " 11]"
            ]
          },
          "metadata": {
            "tags": []
          },
          "execution_count": 15
        }
      ]
    },
    {
      "cell_type": "markdown",
      "metadata": {
        "id": "3v7SMyL7M72B"
      },
      "source": [
        "## Aufgabe 3 (Vertiefung Comprehensions)\n",
        "\n",
        "*Übersteigende Worte* sind Wörter, bei denen die Lücke zwischen jedem benachbarten Buchstabenpaar strikt vergrößert wird. Diese Lücken werden ohne \"Umhüllung\" von Z bis A berechnet.\n",
        "\n",
        "Das Wort \"super\" ist ein solch übersteigendes Wort:\n",
        "```\n",
        "SUPER\n",
        "SU / UP / PE / ER\n",
        "2 / 5 / 11 / 13 \n",
        "``` \n",
        "Schreiben Sie eine Funktion, um festzustellen, ob ein ganzer Satz, der in eine Funktion übergeben wird, aus übersteigenden Wörtern besteht, d.h. ein *übersteigender Satz* ist. Sie können davon ausgehen, dass alle Wörter nur aus alphabetischen Zeichen bestehen und durch Leerzeichen getrennt sind. Wir betrachten den leeren String (```\"\"```) und einen 1-Zeichen-String als gültige übersteigende Sätze.\n",
        "\n",
        "Beispiele mit korrekter Ausgabe der Funktion:\n",
        "```\n",
        "print(ist_übersteigender_satz(\"super\")) # -> True\n",
        "print(ist_übersteigender_satz(\"a\")) # -> True\n",
        "print(ist_übersteigender_satz(\"\")) # -> True\n",
        "print(ist_übersteigender_satz(\"es ist kalt\")) # -> False\n",
        "print(ist_übersteigender_satz(\"super turner\")) # -> True\n",
        "print(ist_übersteigender_satz(\"super metronom\")) # -> False\n",
        "```\n",
        "Unten wird eine ```zeichen_abstand(z1, z2)```-Funktion bereitgestellt, die die Lücke zwischen zwei Zeichen im Alphabet zurückgibt. Um zu verstehen, wie sie funktioniert, sollten Sie sich zunächst mit den Python-Funktionen ```ord()``` (nimmt einen Buchstaben und gibt eine ganzzahlige Ordinalzahl aus) und ```chr()```(nimmt die ganzzahlige Ordinalzahl und gibt den Buchstaben aus) vertraut machen. Zum Beispiel:\n",
        "```\n",
        "ord('a') # -> 97\n",
        "chr(97) # -> 'a'\n",
        "```\n",
        "Um also die Lücke zwischen g und e zu finden, berechnen wir ```abs(ord('g') - ord('e'))```, wobei ```abs()``` den absoluten Wert seines Arguments zurückgibt.\n",
        "\n",
        "*Hinweis: Die ```all()```-Funktion könnte hier nützlich sein, welche True zurückgibt, wenn alle Elemente in einer Sequenz wahr sind, andernfalls gibt sie False zurück, z.b. ```all([True, True, False]) # -> False```. Wenn die Sequenz leer ist, gibt die Funktion ebenfalls True zurück.*\n"
      ]
    },
    {
      "cell_type": "code",
      "metadata": {
        "colab": {
          "base_uri": "https://localhost:8080/"
        },
        "id": "S4Cw7EMoPl38",
        "outputId": "1c370e88-22f7-4151-90aa-4196a443595f"
      },
      "source": [
        "# Bearbeitung Aufgabe 3\n",
        "\n",
        "def zeichen_abstand(ch1, ch2):\n",
        "    \"\"\"Gibt die Lücke im Alphabet zwischen zwei Zeichen zurück.\"\"\"\n",
        "    return abs(ord(ch1) - ord(ch2))\n",
        "\n",
        "def ist_übersteigendes_wort(word):\n",
        "    \"\"\"Gibt zurück, ob ein Wort übersteigend ist.\"\"\"\n",
        "    diff = [zeichen_abstand(word[i],word[i-1]) for i  in range(1,len(word)) ]\n",
        "    return diff == sorted(diff)\n",
        "\n",
        "def ist_übersteigender_satz(phrase):\n",
        "    \"\"\"Gibt zurück, ob ein Wort bzw. Satz übersteigend ist.\"\"\"\n",
        "    return all([ist_übersteigendes_wort(w) for w in phrase.split(\" \")])\n",
        "\n",
        "print(ist_übersteigender_satz(\"super\")) # -> True\n",
        "print(ist_übersteigender_satz(\"a\")) # -> True\n",
        "print(ist_übersteigender_satz(\"\")) # -> True\n",
        "print(ist_übersteigender_satz(\"es ist kalt\")) # -> False\n",
        "print(ist_übersteigender_satz(\"super turner\")) # -> True\n",
        "print(ist_übersteigender_satz(\"super metronom\")) # -> False"
      ],
      "execution_count": 20,
      "outputs": [
        {
          "output_type": "stream",
          "text": [
            "True\n",
            "True\n",
            "True\n",
            "False\n",
            "True\n",
            "False\n"
          ],
          "name": "stdout"
        }
      ]
    },
    {
      "cell_type": "markdown",
      "metadata": {
        "id": "g54eTmbbJRLZ"
      },
      "source": [
        "## Aufgabe 4 (Vertiefung Algorithmen und Unpacking)\n",
        "\n",
        "Schreiben Sie eine Funktion zur Berechnung des größten gemeinsamen Teilers (ggt) von zwei positiven ganzen Zahlen. Benutzen Sie Tupel (Un)packing und die Tatsache, dass ```ggt(a, b)``` mathematisch gleich ```ggt(b, a % b)``` ist und dass ```ggt(a, 0) == a```.\n",
        "\n",
        "Zum Testen können Sie diesen Code-Block nutzen:\n",
        "```\n",
        "print(ggt(10, 25)) # -> 5\n",
        "print(ggt(14, 15)) # -> 1\n",
        "print(ggt(3, 9)) # -> 3\n",
        "print(ggt(1, 1)) # -> 1\n",
        "```\n",
        "\n",
        "*Hinweis: Die Standardbibliothek hat solch eine Funktion. Vermeiden Sie es, diese Funktion einfach zu importieren und hier zu verwenden - das Ziel ist es, mit Tupeln Ein- und Auspacken zu üben!*\n"
      ]
    },
    {
      "cell_type": "code",
      "metadata": {
        "id": "yuW3AtfqLfhN",
        "colab": {
          "base_uri": "https://localhost:8080/"
        },
        "outputId": "698870f2-6f0a-45a5-9b91-6ec44ecf3523"
      },
      "source": [
        "# Bearbeitung Aufgabe 4\n",
        "def ggt(a, b):\n",
        "    \"\"\"Gibt den größten gemeinsamen Teiler von zwei Zahlen zurück.\"\"\"\n",
        "    if b == 0: return a\n",
        "    return ggt(b,a%b)\n",
        "\n",
        "print(ggt(10, 25)) # -> 5\n",
        "print(ggt(14, 15)) # -> 1\n",
        "print(ggt(3, 9)) # -> 3\n",
        "print(ggt(1, 1)) # -> 1"
      ],
      "execution_count": 21,
      "outputs": [
        {
          "output_type": "stream",
          "text": [
            "5\n",
            "1\n",
            "3\n",
            "1\n"
          ],
          "name": "stdout"
        }
      ]
    },
    {
      "cell_type": "markdown",
      "metadata": {
        "id": "KCleWjZPNVxw"
      },
      "source": [
        "# Neuer Abschnitt"
      ]
    },
    {
      "cell_type": "markdown",
      "metadata": {
        "id": "x7hno2-KNWf1"
      },
      "source": [
        "# Neuer Abschnitt"
      ]
    },
    {
      "cell_type": "code",
      "metadata": {
        "id": "BVvnHQhJAw8A"
      },
      "source": [
        ""
      ],
      "execution_count": null,
      "outputs": []
    }
  ]
}